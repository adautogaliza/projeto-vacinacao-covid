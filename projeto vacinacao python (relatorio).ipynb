{
 "cells": [
  {
   "cell_type": "markdown",
   "id": "d2083a93-efb0-40d4-8dbd-aa38144e3441",
   "metadata": {},
   "source": [
    "# PROJETO MICRODADOS VACINAÇÃO PYTHON"
   ]
  },
  {
   "cell_type": "markdown",
   "id": "f08b01d4",
   "metadata": {},
   "source": [
    "Objetivo: Realizar analise exploratória dos dados de vacinação através da base de dados disponibilizada pela iniciativa  base dos dados com a linguagem python"
   ]
  },
  {
   "cell_type": "markdown",
   "id": "81a1bb69",
   "metadata": {},
   "source": [
    "Bibliotecas a serem utilizadas:"
   ]
  },
  {
   "cell_type": "code",
   "execution_count": 200,
   "id": "2bb1751a-7875-4fc3-bcd8-25af8e4ac779",
   "metadata": {},
   "outputs": [],
   "source": [
    "import pandas as pd\n",
    "import numpy as np\n",
    "import seaborn as sea\n",
    "import matplotlib.pyplot as plt"
   ]
  },
  {
   "cell_type": "markdown",
   "id": "c5bb42fa",
   "metadata": {},
   "source": [
    "Sobre o dataset:\n",
    "\n",
    "Utilizando linguagem SQL filtramos do dataset original apenas 700mil registros para melhorar nossa eficiência computacional. Por isto, este dataset representa apenas uma parte dos dados originais. Aqui, cada linha representa uma dose aplicada em um indivíduo. Os dados possuem informações sobre o imunizante aplicado, a categoria e grupo de comorbidade, data e local de aplicação.\n",
    "\n",
    "O link para o datalake público pode ser acessado aqui: https://basedosdados.org/dataset/br-ms-vacinacao-covid19?bdm_table=microdados_vacinacao"
   ]
  },
  {
   "cell_type": "code",
   "execution_count": 201,
   "id": "8b40f3ff-6538-4182-a36d-ba883300998c",
   "metadata": {},
   "outputs": [],
   "source": [
    "dados = pd.read_csv('C:/Users/Adauto/OneDrive/Área de Trabalho/Ciencia de Dados/vacinacao.csv', low_memory = False) "
   ]
  },
  {
   "cell_type": "markdown",
   "id": "d8ff6f47",
   "metadata": {},
   "source": [
    "Verificando a estrutura do dataset:"
   ]
  },
  {
   "cell_type": "code",
   "execution_count": 202,
   "id": "dca5ef4d-51bf-4b14-a533-750edc52b167",
   "metadata": {},
   "outputs": [
    {
     "data": {
      "text/plain": [
       "(700000, 15)"
      ]
     },
     "execution_count": 202,
     "metadata": {},
     "output_type": "execute_result"
    }
   ],
   "source": [
    "dados.shape "
   ]
  },
  {
   "cell_type": "markdown",
   "id": "2e38bf58",
   "metadata": {},
   "source": [
    "Primeira impressão dos dados:"
   ]
  },
  {
   "cell_type": "code",
   "execution_count": 203,
   "id": "12b03dbc-560e-47a0-afe5-5cff9dca2977",
   "metadata": {
    "scrolled": true
   },
   "outputs": [
    {
     "data": {
      "text/html": [
       "<div>\n",
       "<style scoped>\n",
       "    .dataframe tbody tr th:only-of-type {\n",
       "        vertical-align: middle;\n",
       "    }\n",
       "\n",
       "    .dataframe tbody tr th {\n",
       "        vertical-align: top;\n",
       "    }\n",
       "\n",
       "    .dataframe thead th {\n",
       "        text-align: right;\n",
       "    }\n",
       "</style>\n",
       "<table border=\"1\" class=\"dataframe\">\n",
       "  <thead>\n",
       "    <tr style=\"text-align: right;\">\n",
       "      <th></th>\n",
       "      <th>sigla_uf</th>\n",
       "      <th>id_documento</th>\n",
       "      <th>id_paciente</th>\n",
       "      <th>id_estabelecimento</th>\n",
       "      <th>grupo_atendimento</th>\n",
       "      <th>categoria</th>\n",
       "      <th>lote</th>\n",
       "      <th>nome_fabricante</th>\n",
       "      <th>referencia_fabricante</th>\n",
       "      <th>data_aplicacao</th>\n",
       "      <th>dose</th>\n",
       "      <th>vacina</th>\n",
       "      <th>data_importacao_rnds</th>\n",
       "      <th>horario_importacao_rnds</th>\n",
       "      <th>sistema_origem</th>\n",
       "    </tr>\n",
       "  </thead>\n",
       "  <tbody>\n",
       "    <tr>\n",
       "      <th>0</th>\n",
       "      <td>SC</td>\n",
       "      <td>1bf5c354-e681-477a-b0f5-00c0b6442d13-i0b0</td>\n",
       "      <td>4221bb5df1b895b7223c1031f2f71377bbb337f5b50760...</td>\n",
       "      <td>2622726</td>\n",
       "      <td>926.0</td>\n",
       "      <td>9.0</td>\n",
       "      <td>FJ4187</td>\n",
       "      <td>PFIZER</td>\n",
       "      <td>Organization/46070868003699</td>\n",
       "      <td>2021-11-06</td>\n",
       "      <td>2ª Dose</td>\n",
       "      <td>87</td>\n",
       "      <td>NaN</td>\n",
       "      <td>NaN</td>\n",
       "      <td>NaN</td>\n",
       "    </tr>\n",
       "    <tr>\n",
       "      <th>1</th>\n",
       "      <td>MG</td>\n",
       "      <td>abd53ecf-0891-41d3-b0c6-e0bb9ef52959-i0b0</td>\n",
       "      <td>64a596936ac94945399fa2688c4e0dec00b22809047f7a...</td>\n",
       "      <td>9686940</td>\n",
       "      <td>201.0</td>\n",
       "      <td>2.0</td>\n",
       "      <td>210455</td>\n",
       "      <td>SINOVAC/BUTANTAN</td>\n",
       "      <td>SINOVAC-BUTANTAN/61189445000156</td>\n",
       "      <td>2021-09-16</td>\n",
       "      <td>1ª Dose</td>\n",
       "      <td>86</td>\n",
       "      <td>NaN</td>\n",
       "      <td>NaN</td>\n",
       "      <td>NaN</td>\n",
       "    </tr>\n",
       "    <tr>\n",
       "      <th>2</th>\n",
       "      <td>MG</td>\n",
       "      <td>d5ac0a0c-b73e-409c-9ee5-537365be70a6-i0b0</td>\n",
       "      <td>4d965708eb22efcd242dda496b77716080c01ab9038fd2...</td>\n",
       "      <td>2121522</td>\n",
       "      <td>201.0</td>\n",
       "      <td>2.0</td>\n",
       "      <td>1855836</td>\n",
       "      <td>JANSSEN</td>\n",
       "      <td>Organization/30587</td>\n",
       "      <td>2021-12-22</td>\n",
       "      <td>Reforço</td>\n",
       "      <td>88</td>\n",
       "      <td>NaN</td>\n",
       "      <td>NaN</td>\n",
       "      <td>NaN</td>\n",
       "    </tr>\n",
       "    <tr>\n",
       "      <th>3</th>\n",
       "      <td>BA</td>\n",
       "      <td>d95291be-217c-4415-a02d-9155696d743d-i0b0</td>\n",
       "      <td>95a52c776c26e81f4e856f4c2aeafc35b0c507daeea2b2...</td>\n",
       "      <td>7222122</td>\n",
       "      <td>926.0</td>\n",
       "      <td>9.0</td>\n",
       "      <td>ABW4735</td>\n",
       "      <td>ASTRAZENECA/FIOCRUZ</td>\n",
       "      <td>FIOCRUZ - FUNDACAO OSWALDO CRUZ (OXFORD)/33655...</td>\n",
       "      <td>2021-06-08</td>\n",
       "      <td>1ª Dose</td>\n",
       "      <td>85</td>\n",
       "      <td>NaN</td>\n",
       "      <td>NaN</td>\n",
       "      <td>NaN</td>\n",
       "    </tr>\n",
       "    <tr>\n",
       "      <th>4</th>\n",
       "      <td>PE</td>\n",
       "      <td>14714eb2-c211-429c-b181-41751241253f-i0b0</td>\n",
       "      <td>0319447ca18ff545f498ee458312ce720e037a31f78780...</td>\n",
       "      <td>2630540</td>\n",
       "      <td>201.0</td>\n",
       "      <td>2.0</td>\n",
       "      <td>210371</td>\n",
       "      <td>SINOVAC/BUTANTAN</td>\n",
       "      <td>Organization/152</td>\n",
       "      <td>2021-12-20</td>\n",
       "      <td>2ª Dose</td>\n",
       "      <td>86</td>\n",
       "      <td>NaN</td>\n",
       "      <td>NaN</td>\n",
       "      <td>NaN</td>\n",
       "    </tr>\n",
       "  </tbody>\n",
       "</table>\n",
       "</div>"
      ],
      "text/plain": [
       "  sigla_uf                               id_documento  \\\n",
       "0       SC  1bf5c354-e681-477a-b0f5-00c0b6442d13-i0b0   \n",
       "1       MG  abd53ecf-0891-41d3-b0c6-e0bb9ef52959-i0b0   \n",
       "2       MG  d5ac0a0c-b73e-409c-9ee5-537365be70a6-i0b0   \n",
       "3       BA  d95291be-217c-4415-a02d-9155696d743d-i0b0   \n",
       "4       PE  14714eb2-c211-429c-b181-41751241253f-i0b0   \n",
       "\n",
       "                                         id_paciente  id_estabelecimento  \\\n",
       "0  4221bb5df1b895b7223c1031f2f71377bbb337f5b50760...             2622726   \n",
       "1  64a596936ac94945399fa2688c4e0dec00b22809047f7a...             9686940   \n",
       "2  4d965708eb22efcd242dda496b77716080c01ab9038fd2...             2121522   \n",
       "3  95a52c776c26e81f4e856f4c2aeafc35b0c507daeea2b2...             7222122   \n",
       "4  0319447ca18ff545f498ee458312ce720e037a31f78780...             2630540   \n",
       "\n",
       "   grupo_atendimento  categoria     lote      nome_fabricante  \\\n",
       "0              926.0        9.0   FJ4187               PFIZER   \n",
       "1              201.0        2.0   210455     SINOVAC/BUTANTAN   \n",
       "2              201.0        2.0  1855836              JANSSEN   \n",
       "3              926.0        9.0  ABW4735  ASTRAZENECA/FIOCRUZ   \n",
       "4              201.0        2.0   210371     SINOVAC/BUTANTAN   \n",
       "\n",
       "                               referencia_fabricante data_aplicacao     dose  \\\n",
       "0                        Organization/46070868003699     2021-11-06  2ª Dose   \n",
       "1                    SINOVAC-BUTANTAN/61189445000156     2021-09-16  1ª Dose   \n",
       "2                                 Organization/30587     2021-12-22  Reforço   \n",
       "3  FIOCRUZ - FUNDACAO OSWALDO CRUZ (OXFORD)/33655...     2021-06-08  1ª Dose   \n",
       "4                                   Organization/152     2021-12-20  2ª Dose   \n",
       "\n",
       "   vacina  data_importacao_rnds  horario_importacao_rnds  sistema_origem  \n",
       "0      87                   NaN                      NaN             NaN  \n",
       "1      86                   NaN                      NaN             NaN  \n",
       "2      88                   NaN                      NaN             NaN  \n",
       "3      85                   NaN                      NaN             NaN  \n",
       "4      86                   NaN                      NaN             NaN  "
      ]
     },
     "execution_count": 203,
     "metadata": {},
     "output_type": "execute_result"
    }
   ],
   "source": [
    "dados.head()"
   ]
  },
  {
   "cell_type": "markdown",
   "id": "7ae61aaa",
   "metadata": {},
   "source": [
    "Verificando tipagem dos dados:"
   ]
  },
  {
   "cell_type": "code",
   "execution_count": 204,
   "id": "b4d6d83c",
   "metadata": {
    "scrolled": false
   },
   "outputs": [
    {
     "name": "stdout",
     "output_type": "stream",
     "text": [
      "<class 'pandas.core.frame.DataFrame'>\n",
      "RangeIndex: 700000 entries, 0 to 699999\n",
      "Data columns (total 15 columns):\n",
      " #   Column                   Non-Null Count   Dtype  \n",
      "---  ------                   --------------   -----  \n",
      " 0   sigla_uf                 700000 non-null  object \n",
      " 1   id_documento             700000 non-null  object \n",
      " 2   id_paciente              700000 non-null  object \n",
      " 3   id_estabelecimento       700000 non-null  int64  \n",
      " 4   grupo_atendimento        698606 non-null  float64\n",
      " 5   categoria                698606 non-null  float64\n",
      " 6   lote                     700000 non-null  object \n",
      " 7   nome_fabricante          700000 non-null  object \n",
      " 8   referencia_fabricante    445574 non-null  object \n",
      " 9   data_aplicacao           700000 non-null  object \n",
      " 10  dose                     700000 non-null  object \n",
      " 11  vacina                   700000 non-null  int64  \n",
      " 12  data_importacao_rnds     0 non-null       float64\n",
      " 13  horario_importacao_rnds  0 non-null       float64\n",
      " 14  sistema_origem           0 non-null       float64\n",
      "dtypes: float64(5), int64(2), object(8)\n",
      "memory usage: 80.1+ MB\n"
     ]
    }
   ],
   "source": [
    "dados.info()"
   ]
  },
  {
   "cell_type": "markdown",
   "id": "51b89477",
   "metadata": {},
   "source": [
    "Tratando coluna data:"
   ]
  },
  {
   "cell_type": "code",
   "execution_count": 205,
   "id": "2abdac60",
   "metadata": {},
   "outputs": [],
   "source": [
    "dados['data_aplicacao'] = pd.to_datetime(dados['data_aplicacao'])"
   ]
  },
  {
   "cell_type": "code",
   "execution_count": 206,
   "id": "dd7042ed",
   "metadata": {},
   "outputs": [
    {
     "name": "stdout",
     "output_type": "stream",
     "text": [
      "O período abrange de 1990-01-04 00:00:00 até 2022-01-14 00:00:00\n"
     ]
    }
   ],
   "source": [
    "#Verificando perído do dataset\n",
    "\n",
    "periodo_inicial = dados['data_aplicacao'].min()\n",
    "periodo_final = dados['data_aplicacao'].max()\n",
    "print(f'O período abrange de {periodo_inicial} até {periodo_final}')"
   ]
  },
  {
   "cell_type": "code",
   "execution_count": 207,
   "id": "fb549323",
   "metadata": {},
   "outputs": [
    {
     "data": {
      "text/plain": [
       "14130   1990-01-04\n",
       "Name: data_aplicacao, dtype: datetime64[ns]"
      ]
     },
     "execution_count": 207,
     "metadata": {},
     "output_type": "execute_result"
    }
   ],
   "source": [
    "# verificando registros suspeitos de data errada\n",
    "\n",
    "dados['data_aplicacao'].loc[dados['data_aplicacao'] < '2019']"
   ]
  },
  {
   "cell_type": "code",
   "execution_count": 208,
   "id": "0acbfa6a",
   "metadata": {},
   "outputs": [
    {
     "data": {
      "text/plain": [
       "sigla_uf                                                                  PB\n",
       "id_documento                       3940cd34-c02e-471d-a22c-98dbe53d63b7-i0b0\n",
       "id_paciente                795e4ba3c3d6ad25eeff6fe3672798e035a2428acd11e9...\n",
       "id_estabelecimento                                                   7979436\n",
       "grupo_atendimento                                                      502.0\n",
       "categoria                                                                5.0\n",
       "lote                                                                  EY0575\n",
       "nome_fabricante                                                       PFIZER\n",
       "referencia_fabricante                            Organization/46070868001998\n",
       "data_aplicacao                                           1990-01-04 00:00:00\n",
       "dose                                                                 1ª Dose\n",
       "vacina                                                                    87\n",
       "data_importacao_rnds                                                     NaN\n",
       "horario_importacao_rnds                                                  NaN\n",
       "sistema_origem                                                           NaN\n",
       "Name: 14130, dtype: object"
      ]
     },
     "execution_count": 208,
     "metadata": {},
     "output_type": "execute_result"
    }
   ],
   "source": [
    "# Provavelmente trata-se de erro de digitação\n",
    "\n",
    "dados.loc[14130]"
   ]
  },
  {
   "cell_type": "code",
   "execution_count": 209,
   "id": "ee6acf82",
   "metadata": {},
   "outputs": [],
   "source": [
    "# Excluindo registro\n",
    "\n",
    "dados  = dados.drop(14130)"
   ]
  },
  {
   "cell_type": "code",
   "execution_count": 210,
   "id": "bdf739b9-1d4d-41fb-9fa1-ec2a2ed3184f",
   "metadata": {},
   "outputs": [
    {
     "data": {
      "text/plain": [
       "(699999, 15)"
      ]
     },
     "execution_count": 210,
     "metadata": {},
     "output_type": "execute_result"
    }
   ],
   "source": [
    "dados.shape"
   ]
  },
  {
   "cell_type": "code",
   "execution_count": 211,
   "id": "c42556f0",
   "metadata": {
    "scrolled": true
   },
   "outputs": [
    {
     "name": "stdout",
     "output_type": "stream",
     "text": [
      "O peírodo abrange de 2020-03-23 00:00:00 até 2022-01-14 00:00:00\n"
     ]
    }
   ],
   "source": [
    "# Conferindo resultado\n",
    "\n",
    "periodo_inicial = dados['data_aplicacao'].min()\n",
    "periodo_final = dados['data_aplicacao'].max()\n",
    "print(f'O peírodo abrange de {periodo_inicial} até {periodo_final}')"
   ]
  },
  {
   "cell_type": "markdown",
   "id": "fc02c575",
   "metadata": {},
   "source": [
    "Verificando NA's"
   ]
  },
  {
   "cell_type": "code",
   "execution_count": 212,
   "id": "70f33c8a-ef26-4f09-af82-fbe8f9ced96b",
   "metadata": {
    "scrolled": true
   },
   "outputs": [
    {
     "data": {
      "text/plain": [
       "sigla_uf                        0\n",
       "id_documento                    0\n",
       "id_paciente                     0\n",
       "id_estabelecimento              0\n",
       "grupo_atendimento            1394\n",
       "categoria                    1394\n",
       "lote                            0\n",
       "nome_fabricante                 0\n",
       "referencia_fabricante      254426\n",
       "data_aplicacao                  0\n",
       "dose                            0\n",
       "vacina                          0\n",
       "data_importacao_rnds       699999\n",
       "horario_importacao_rnds    699999\n",
       "sistema_origem             699999\n",
       "dtype: int64"
      ]
     },
     "execution_count": 212,
     "metadata": {},
     "output_type": "execute_result"
    }
   ],
   "source": [
    "dados.isnull().sum() \n",
    "\n",
    "# AS principais informações de dose, nome do fabricante e estado de aplicação não irão necessitar de tratamento de Na's."
   ]
  },
  {
   "cell_type": "markdown",
   "id": "213922f9",
   "metadata": {},
   "source": [
    "Verificando as colunas existentes:"
   ]
  },
  {
   "cell_type": "code",
   "execution_count": 213,
   "id": "5e2edae7-6ea3-4cc0-9c70-baa59ab030e7",
   "metadata": {
    "scrolled": true
   },
   "outputs": [
    {
     "data": {
      "text/plain": [
       "array(['sigla_uf', 'id_documento', 'id_paciente', 'id_estabelecimento',\n",
       "       'grupo_atendimento', 'categoria', 'lote', 'nome_fabricante',\n",
       "       'referencia_fabricante', 'data_aplicacao', 'dose', 'vacina',\n",
       "       'data_importacao_rnds', 'horario_importacao_rnds',\n",
       "       'sistema_origem'], dtype=object)"
      ]
     },
     "execution_count": 213,
     "metadata": {},
     "output_type": "execute_result"
    }
   ],
   "source": [
    "dados.columns.values "
   ]
  },
  {
   "cell_type": "markdown",
   "id": "aba33b51",
   "metadata": {},
   "source": [
    "# Tratamento dos Dados"
   ]
  },
  {
   "cell_type": "code",
   "execution_count": 214,
   "id": "bbaa9bda-fcb8-4693-9e1d-c9a2db9f68c3",
   "metadata": {
    "scrolled": false
   },
   "outputs": [
    {
     "name": "stdout",
     "output_type": "stream",
     "text": [
      "SP    172125\n",
      "MG     72881\n",
      "RJ     58225\n",
      "BA     44852\n",
      "RS     41579\n",
      "PR     40379\n",
      "PE     29079\n",
      "CE     28070\n",
      "SC     25456\n",
      "GO     23468\n",
      "PA     21281\n",
      "MA     18538\n",
      "ES     14313\n",
      "PB     13342\n",
      "RN     11222\n",
      "MT     10934\n",
      "AM     10854\n",
      "DF     10542\n",
      "PI     10428\n",
      "AL      9962\n",
      "MS      9877\n",
      "SE      6823\n",
      "RO      5320\n",
      "TO      4400\n",
      "AC      2591\n",
      "AP      1974\n",
      "RR      1484\n",
      "Name: sigla_uf, dtype: int64\n"
     ]
    }
   ],
   "source": [
    "quantidade_vacinas_uf = dados['sigla_uf'].value_counts() ## values_counts() : conta quantos registros tem por colunas\n",
    "print(quantidade_vacinas_uf)\n",
    "\n",
    "# leitura: Em SP foram aplicadas 172.125 vacinas (maior aplicações)\n",
    "# Roraima foram aplicadas as menores quantidades de vacinas 1.484\n"
   ]
  },
  {
   "cell_type": "markdown",
   "id": "1d5b8596",
   "metadata": {},
   "source": [
    "Outra forma de verificar os valores exremos pode ser feita da seguinte forma:"
   ]
  },
  {
   "cell_type": "code",
   "execution_count": 215,
   "id": "936f6902",
   "metadata": {
    "scrolled": true
   },
   "outputs": [
    {
     "name": "stdout",
     "output_type": "stream",
     "text": [
      "O Estado que mais aplicou doses foi SP com 172125 doses e quem menos aplicou foi RR com 1484 doses\n"
     ]
    }
   ],
   "source": [
    "maiores_aplicacoes = dados['sigla_uf'].value_counts().max()\n",
    "menores_aplicacoes = dados['sigla_uf'].value_counts().min()\n",
    "\n",
    "print(f'O Estado que mais aplicou doses foi SP com {maiores_aplicacoes} doses e quem menos aplicou foi RR com {menores_aplicacoes} doses')"
   ]
  },
  {
   "cell_type": "markdown",
   "id": "bfb2c271",
   "metadata": {},
   "source": [
    "Substituindo valores das LINHAS pelas categorias corretas.\n",
    "\n",
    "O objetivo aqui é reorganizar melhor os dados e renomear os registros que versam sobre doses de reforço ou 1º dose para mesma nomeclatura."
   ]
  },
  {
   "cell_type": "code",
   "execution_count": 216,
   "id": "70233689-3120-4da5-b62d-1af80d9d58f8",
   "metadata": {
    "scrolled": false
   },
   "outputs": [
    {
     "name": "stdout",
     "output_type": "stream",
     "text": [
      "['2ª Dose' '1ª Dose' 'Reforço' 'Dose Única' '4ª Dose' '3ª Dose']\n"
     ]
    }
   ],
   "source": [
    "dados.loc[dados['dose'] == 'Dose Adicional', ['dose']] = \"Reforço\"\n",
    "dados.loc[dados['dose'] == '1º Reforço', ['dose']] = \"Reforço\"\n",
    "dados.loc[dados['dose'] == 'Única', ['dose']] = \"Dose Única\"\n",
    "dados.loc[dados['dose'] == 'Dose Inicial', ['dose']] = \"1ª Dose\"\n",
    "\n",
    "print(dados['dose'].unique()) # verificando resultado"
   ]
  },
  {
   "cell_type": "markdown",
   "id": "3933ec0f",
   "metadata": {},
   "source": [
    "Na base o imunizante Astrazeneca aparece com duas nomeclaturas diferentes e iremos tratá-ló da seguinte forma:"
   ]
  },
  {
   "cell_type": "code",
   "execution_count": 217,
   "id": "3732c30a-a487-4d84-a319-35a296fb0f58",
   "metadata": {
    "scrolled": true
   },
   "outputs": [
    {
     "name": "stdout",
     "output_type": "stream",
     "text": [
      "['PFIZER' 'SINOVAC/BUTANTAN' 'JANSSEN' 'ASTRAZENECA/FIOCRUZ']\n"
     ]
    }
   ],
   "source": [
    "dados.loc[dados['nome_fabricante'] == 'ASTRAZENECA', ['nome_fabricante']] = \"ASTRAZENECA/FIOCRUZ\" \n",
    "\n",
    "print(dados['nome_fabricante'].unique()) # verificando resultado\n"
   ]
  },
  {
   "cell_type": "markdown",
   "id": "7f49b52e",
   "metadata": {},
   "source": [
    "Decifrando coluna categoria: o objetivo é renomear coluna categoria de números para texto \n",
    "\n",
    "1. Criar objeto dicionario com chave-valor e selecionar dataframe com colunas de interesse\n",
    "\n",
    "2. Aqui foi necessário utilizar o dicionário dos dados originais que contém o mapa das informações do dataset"
   ]
  },
  {
   "cell_type": "code",
   "execution_count": 218,
   "id": "fbe8e853",
   "metadata": {},
   "outputs": [
    {
     "data": {
      "text/html": [
       "<div>\n",
       "<style scoped>\n",
       "    .dataframe tbody tr th:only-of-type {\n",
       "        vertical-align: middle;\n",
       "    }\n",
       "\n",
       "    .dataframe tbody tr th {\n",
       "        vertical-align: top;\n",
       "    }\n",
       "\n",
       "    .dataframe thead th {\n",
       "        text-align: right;\n",
       "    }\n",
       "</style>\n",
       "<table border=\"1\" class=\"dataframe\">\n",
       "  <thead>\n",
       "    <tr style=\"text-align: right;\">\n",
       "      <th></th>\n",
       "      <th>id_paciente</th>\n",
       "      <th>categoria</th>\n",
       "      <th>nome_fabricante</th>\n",
       "    </tr>\n",
       "  </thead>\n",
       "  <tbody>\n",
       "    <tr>\n",
       "      <th>0</th>\n",
       "      <td>4221bb5df1b895b7223c1031f2f71377bbb337f5b50760...</td>\n",
       "      <td>9.0</td>\n",
       "      <td>PFIZER</td>\n",
       "    </tr>\n",
       "    <tr>\n",
       "      <th>1</th>\n",
       "      <td>64a596936ac94945399fa2688c4e0dec00b22809047f7a...</td>\n",
       "      <td>2.0</td>\n",
       "      <td>SINOVAC/BUTANTAN</td>\n",
       "    </tr>\n",
       "    <tr>\n",
       "      <th>2</th>\n",
       "      <td>4d965708eb22efcd242dda496b77716080c01ab9038fd2...</td>\n",
       "      <td>2.0</td>\n",
       "      <td>JANSSEN</td>\n",
       "    </tr>\n",
       "    <tr>\n",
       "      <th>3</th>\n",
       "      <td>95a52c776c26e81f4e856f4c2aeafc35b0c507daeea2b2...</td>\n",
       "      <td>9.0</td>\n",
       "      <td>ASTRAZENECA/FIOCRUZ</td>\n",
       "    </tr>\n",
       "    <tr>\n",
       "      <th>4</th>\n",
       "      <td>0319447ca18ff545f498ee458312ce720e037a31f78780...</td>\n",
       "      <td>2.0</td>\n",
       "      <td>SINOVAC/BUTANTAN</td>\n",
       "    </tr>\n",
       "  </tbody>\n",
       "</table>\n",
       "</div>"
      ],
      "text/plain": [
       "                                         id_paciente  categoria  \\\n",
       "0  4221bb5df1b895b7223c1031f2f71377bbb337f5b50760...        9.0   \n",
       "1  64a596936ac94945399fa2688c4e0dec00b22809047f7a...        2.0   \n",
       "2  4d965708eb22efcd242dda496b77716080c01ab9038fd2...        2.0   \n",
       "3  95a52c776c26e81f4e856f4c2aeafc35b0c507daeea2b2...        9.0   \n",
       "4  0319447ca18ff545f498ee458312ce720e037a31f78780...        2.0   \n",
       "\n",
       "       nome_fabricante  \n",
       "0               PFIZER  \n",
       "1     SINOVAC/BUTANTAN  \n",
       "2              JANSSEN  \n",
       "3  ASTRAZENECA/FIOCRUZ  \n",
       "4     SINOVAC/BUTANTAN  "
      ]
     },
     "execution_count": 218,
     "metadata": {},
     "output_type": "execute_result"
    }
   ],
   "source": [
    "categoriadic =  {\n",
    "    1 : 'Comorbidades',\n",
    "    2 : 'Faixa Étaria',\n",
    "    3 : 'Pessoas de 60 anos ou mais institucionalizadas',\n",
    "    4 : 'Forças Armadas (membros ativos)',\n",
    "    5 : 'Forças de Segurança e Salvamento',\n",
    "    6 : 'Povos e Comunidades Tradicionais',\n",
    "    7 : 'Povos Indígenas',\n",
    "    8: 'Trabalhadores da Educação',\n",
    "    9 : 'Trabalhadores de Saúde',\n",
    "    10 : 'outros',\n",
    "    11 : 'Pessoas com Deficiência',\n",
    "    12 : 'outros',\n",
    "    13 : 'Trabalhadores Portuários',\n",
    "    14 : 'Funcionário do Sistema de Privação de Liberdade',\n",
    "    15 : 'outros',\n",
    "    16 : 'Trabalhadores Industriais',\n",
    "    21 : 'outros',\n",
    "    25 : 'outros',\n",
    "    94 : 'outros',\n",
    "    114 : 'outros'}\n",
    "  \n",
    "colunas_selecionada = ['id_paciente', 'categoria', 'nome_fabricante']\n",
    "dados_selecionado = dados.filter(items = colunas_selecionada)\n",
    "dados_selecionado.head()"
   ]
  },
  {
   "cell_type": "markdown",
   "id": "46d45b07",
   "metadata": {},
   "source": [
    "Verificando NA's deste slicing"
   ]
  },
  {
   "cell_type": "code",
   "execution_count": 219,
   "id": "d79a9d45",
   "metadata": {
    "scrolled": true
   },
   "outputs": [
    {
     "data": {
      "text/plain": [
       "id_paciente           0\n",
       "categoria          1394\n",
       "nome_fabricante       0\n",
       "dtype: int64"
      ]
     },
     "execution_count": 219,
     "metadata": {},
     "output_type": "execute_result"
    }
   ],
   "source": [
    "dados_selecionado.isnull().sum()  "
   ]
  },
  {
   "cell_type": "markdown",
   "id": "970ede69",
   "metadata": {},
   "source": [
    "Removendo os valores ausentes"
   ]
  },
  {
   "cell_type": "code",
   "execution_count": 220,
   "id": "4cee14f6",
   "metadata": {
    "scrolled": true
   },
   "outputs": [
    {
     "data": {
      "text/plain": [
       "id_paciente        0\n",
       "categoria          0\n",
       "nome_fabricante    0\n",
       "dtype: int64"
      ]
     },
     "execution_count": 220,
     "metadata": {},
     "output_type": "execute_result"
    }
   ],
   "source": [
    "dados_selecionado.dropna(inplace = True)\n",
    "\n",
    "dados_selecionado.isnull().sum() # conferindo resultado"
   ]
  },
  {
   "cell_type": "markdown",
   "id": "194b2390",
   "metadata": {},
   "source": [
    "Criando coluna com nome das categorias com base no dicionario anterior"
   ]
  },
  {
   "cell_type": "code",
   "execution_count": 221,
   "id": "76678ea6",
   "metadata": {},
   "outputs": [
    {
     "data": {
      "text/html": [
       "<div>\n",
       "<style scoped>\n",
       "    .dataframe tbody tr th:only-of-type {\n",
       "        vertical-align: middle;\n",
       "    }\n",
       "\n",
       "    .dataframe tbody tr th {\n",
       "        vertical-align: top;\n",
       "    }\n",
       "\n",
       "    .dataframe thead th {\n",
       "        text-align: right;\n",
       "    }\n",
       "</style>\n",
       "<table border=\"1\" class=\"dataframe\">\n",
       "  <thead>\n",
       "    <tr style=\"text-align: right;\">\n",
       "      <th></th>\n",
       "      <th>id_paciente</th>\n",
       "      <th>categoria</th>\n",
       "      <th>nome_fabricante</th>\n",
       "      <th>nome_categoria</th>\n",
       "    </tr>\n",
       "  </thead>\n",
       "  <tbody>\n",
       "    <tr>\n",
       "      <th>0</th>\n",
       "      <td>4221bb5df1b895b7223c1031f2f71377bbb337f5b50760...</td>\n",
       "      <td>9.0</td>\n",
       "      <td>PFIZER</td>\n",
       "      <td>Trabalhadores de Saúde</td>\n",
       "    </tr>\n",
       "    <tr>\n",
       "      <th>1</th>\n",
       "      <td>64a596936ac94945399fa2688c4e0dec00b22809047f7a...</td>\n",
       "      <td>2.0</td>\n",
       "      <td>SINOVAC/BUTANTAN</td>\n",
       "      <td>Faixa Étaria</td>\n",
       "    </tr>\n",
       "    <tr>\n",
       "      <th>2</th>\n",
       "      <td>4d965708eb22efcd242dda496b77716080c01ab9038fd2...</td>\n",
       "      <td>2.0</td>\n",
       "      <td>JANSSEN</td>\n",
       "      <td>Faixa Étaria</td>\n",
       "    </tr>\n",
       "    <tr>\n",
       "      <th>3</th>\n",
       "      <td>95a52c776c26e81f4e856f4c2aeafc35b0c507daeea2b2...</td>\n",
       "      <td>9.0</td>\n",
       "      <td>ASTRAZENECA/FIOCRUZ</td>\n",
       "      <td>Trabalhadores de Saúde</td>\n",
       "    </tr>\n",
       "    <tr>\n",
       "      <th>4</th>\n",
       "      <td>0319447ca18ff545f498ee458312ce720e037a31f78780...</td>\n",
       "      <td>2.0</td>\n",
       "      <td>SINOVAC/BUTANTAN</td>\n",
       "      <td>Faixa Étaria</td>\n",
       "    </tr>\n",
       "  </tbody>\n",
       "</table>\n",
       "</div>"
      ],
      "text/plain": [
       "                                         id_paciente  categoria  \\\n",
       "0  4221bb5df1b895b7223c1031f2f71377bbb337f5b50760...        9.0   \n",
       "1  64a596936ac94945399fa2688c4e0dec00b22809047f7a...        2.0   \n",
       "2  4d965708eb22efcd242dda496b77716080c01ab9038fd2...        2.0   \n",
       "3  95a52c776c26e81f4e856f4c2aeafc35b0c507daeea2b2...        9.0   \n",
       "4  0319447ca18ff545f498ee458312ce720e037a31f78780...        2.0   \n",
       "\n",
       "       nome_fabricante          nome_categoria  \n",
       "0               PFIZER  Trabalhadores de Saúde  \n",
       "1     SINOVAC/BUTANTAN            Faixa Étaria  \n",
       "2              JANSSEN            Faixa Étaria  \n",
       "3  ASTRAZENECA/FIOCRUZ  Trabalhadores de Saúde  \n",
       "4     SINOVAC/BUTANTAN            Faixa Étaria  "
      ]
     },
     "execution_count": 221,
     "metadata": {},
     "output_type": "execute_result"
    }
   ],
   "source": [
    "dados_selecionado['nome_categoria'] = [categoriadic[i] for i in dados_selecionado.categoria] \n",
    "dados_selecionado.head()"
   ]
  },
  {
   "cell_type": "markdown",
   "id": "1299ccb6",
   "metadata": {},
   "source": [
    "# Análises Exploratórias"
   ]
  },
  {
   "cell_type": "markdown",
   "id": "d9a0bc7d",
   "metadata": {},
   "source": [
    "Qual a quantidade de doses aplicadas por data?"
   ]
  },
  {
   "cell_type": "code",
   "execution_count": 222,
   "id": "ef19ccde",
   "metadata": {},
   "outputs": [
    {
     "data": {
      "text/html": [
       "<div>\n",
       "<style scoped>\n",
       "    .dataframe tbody tr th:only-of-type {\n",
       "        vertical-align: middle;\n",
       "    }\n",
       "\n",
       "    .dataframe tbody tr th {\n",
       "        vertical-align: top;\n",
       "    }\n",
       "\n",
       "    .dataframe thead th {\n",
       "        text-align: right;\n",
       "    }\n",
       "</style>\n",
       "<table border=\"1\" class=\"dataframe\">\n",
       "  <thead>\n",
       "    <tr style=\"text-align: right;\">\n",
       "      <th></th>\n",
       "      <th>contagem</th>\n",
       "    </tr>\n",
       "    <tr>\n",
       "      <th>data_aplicacao</th>\n",
       "      <th></th>\n",
       "    </tr>\n",
       "  </thead>\n",
       "  <tbody>\n",
       "    <tr>\n",
       "      <th>2020-03-23</th>\n",
       "      <td>34</td>\n",
       "    </tr>\n",
       "    <tr>\n",
       "      <th>2020-08-21</th>\n",
       "      <td>1</td>\n",
       "    </tr>\n",
       "    <tr>\n",
       "      <th>2020-09-03</th>\n",
       "      <td>2</td>\n",
       "    </tr>\n",
       "    <tr>\n",
       "      <th>2020-09-08</th>\n",
       "      <td>1</td>\n",
       "    </tr>\n",
       "    <tr>\n",
       "      <th>2021-01-11</th>\n",
       "      <td>1</td>\n",
       "    </tr>\n",
       "    <tr>\n",
       "      <th>...</th>\n",
       "      <td>...</td>\n",
       "    </tr>\n",
       "    <tr>\n",
       "      <th>2022-01-10</th>\n",
       "      <td>1852</td>\n",
       "    </tr>\n",
       "    <tr>\n",
       "      <th>2022-01-11</th>\n",
       "      <td>1825</td>\n",
       "    </tr>\n",
       "    <tr>\n",
       "      <th>2022-01-12</th>\n",
       "      <td>1078</td>\n",
       "    </tr>\n",
       "    <tr>\n",
       "      <th>2022-01-13</th>\n",
       "      <td>1591</td>\n",
       "    </tr>\n",
       "    <tr>\n",
       "      <th>2022-01-14</th>\n",
       "      <td>253</td>\n",
       "    </tr>\n",
       "  </tbody>\n",
       "</table>\n",
       "<p>367 rows × 1 columns</p>\n",
       "</div>"
      ],
      "text/plain": [
       "                contagem\n",
       "data_aplicacao          \n",
       "2020-03-23            34\n",
       "2020-08-21             1\n",
       "2020-09-03             2\n",
       "2020-09-08             1\n",
       "2021-01-11             1\n",
       "...                  ...\n",
       "2022-01-10          1852\n",
       "2022-01-11          1825\n",
       "2022-01-12          1078\n",
       "2022-01-13          1591\n",
       "2022-01-14           253\n",
       "\n",
       "[367 rows x 1 columns]"
      ]
     },
     "execution_count": 222,
     "metadata": {},
     "output_type": "execute_result"
    }
   ],
   "source": [
    "doses_data = pd.DataFrame(dados.groupby(['data_aplicacao']).size())\n",
    "doses_data = doses_data.rename(columns = {0 : 'contagem'})\n",
    "doses_data"
   ]
  },
  {
   "cell_type": "markdown",
   "id": "388355c7",
   "metadata": {},
   "source": [
    "Quantas doses foram aplicadas por cada imunizante?"
   ]
  },
  {
   "cell_type": "code",
   "execution_count": 223,
   "id": "d91aef17-ff95-4652-81ff-14b25d45c9b0",
   "metadata": {
    "scrolled": true
   },
   "outputs": [
    {
     "name": "stdout",
     "output_type": "stream",
     "text": [
      "PFIZER                 254202\n",
      "ASTRAZENECA/FIOCRUZ    250367\n",
      "SINOVAC/BUTANTAN       182977\n",
      "JANSSEN                 12453\n",
      "Name: nome_fabricante, dtype: int64\n"
     ]
    }
   ],
   "source": [
    "qtde_vacinas_fabricante = dados['nome_fabricante'].value_counts() \n",
    "print(qtde_vacinas_fabricante)"
   ]
  },
  {
   "cell_type": "code",
   "execution_count": null,
   "id": "5279e736",
   "metadata": {},
   "outputs": [],
   "source": [
    "Mesma forma de contagem acima, mas com groupby:"
   ]
  },
  {
   "cell_type": "code",
   "execution_count": 224,
   "id": "4746b038",
   "metadata": {
    "scrolled": true
   },
   "outputs": [
    {
     "name": "stdout",
     "output_type": "stream",
     "text": [
      "nome_fabricante\n",
      "PFIZER                 254202\n",
      "ASTRAZENECA/FIOCRUZ    250367\n",
      "SINOVAC/BUTANTAN       182977\n",
      "JANSSEN                 12453\n",
      "dtype: int64\n"
     ]
    }
   ],
   "source": [
    "agrup_vacina = dados.groupby(['nome_fabricante']).size().sort_values(ascending = False) \n",
    "print(agrup_vacina)"
   ]
  },
  {
   "cell_type": "markdown",
   "id": "b6705ea9",
   "metadata": {},
   "source": [
    "Podemos calcular as doses aplicadas em termos percentuais também:"
   ]
  },
  {
   "cell_type": "code",
   "execution_count": 225,
   "id": "4b3abf41-ced4-4f63-b8c7-63924de6d1df",
   "metadata": {
    "scrolled": true
   },
   "outputs": [
    {
     "data": {
      "text/plain": [
       "[36.31462330660472, 35.7667653810934, 26.13960877086967, 1.7790025414322022]"
      ]
     },
     "execution_count": 225,
     "metadata": {},
     "output_type": "execute_result"
    }
   ],
   "source": [
    "coluna_nome_vacina = dados['nome_fabricante']\n",
    "cont_nome_vacina = coluna_nome_vacina.value_counts()\n",
    "pct_nome_vacina = [x/cont_nome_vacina.sum() * 100 for x in cont_nome_vacina]\n",
    "pct_nome_vacina"
   ]
  },
  {
   "cell_type": "markdown",
   "id": "78de397b",
   "metadata": {},
   "source": [
    "Qual o panorama de aplicação por Estados?"
   ]
  },
  {
   "cell_type": "code",
   "execution_count": 226,
   "id": "07acb04b-75c3-4f44-bfad-f761d950b678",
   "metadata": {
    "scrolled": false
   },
   "outputs": [
    {
     "name": "stdout",
     "output_type": "stream",
     "text": [
      "sigla_uf  dose      \n",
      "SP        1ª Dose       79972\n",
      "          2ª Dose       75842\n",
      "MG        1ª Dose       35620\n",
      "          2ª Dose       29462\n",
      "RJ        1ª Dose       28053\n",
      "                        ...  \n",
      "RS        3ª Dose          20\n",
      "AP        Dose Única       19\n",
      "RR        Dose Única       17\n",
      "MT        3ª Dose           2\n",
      "MG        3ª Dose           1\n",
      "Name: dose, Length: 119, dtype: int64\n"
     ]
    }
   ],
   "source": [
    "agrup_uf_dose = dados.groupby(['sigla_uf'])['dose'].value_counts().sort_values(ascending = False) \n",
    "print(agrup_uf_dose)"
   ]
  },
  {
   "cell_type": "markdown",
   "id": "c81812d0",
   "metadata": {},
   "source": [
    "\n",
    "Vacinas aplicadas por grupo e fabricante:\n",
    "    "
   ]
  },
  {
   "cell_type": "code",
   "execution_count": 227,
   "id": "19e9722a-223f-4f15-b5d6-49ce7dde0e6b",
   "metadata": {
    "scrolled": true
   },
   "outputs": [
    {
     "data": {
      "text/plain": [
       "nome_categoria                                   nome_fabricante    \n",
       "Comorbidades                                     ASTRAZENECA/FIOCRUZ     42989\n",
       "                                                 PFIZER                  15059\n",
       "                                                 SINOVAC/BUTANTAN         2300\n",
       "                                                 JANSSEN                   249\n",
       "Faixa Étaria                                     PFIZER                 195614\n",
       "                                                 ASTRAZENECA/FIOCRUZ    150683\n",
       "                                                 SINOVAC/BUTANTAN       143952\n",
       "                                                 JANSSEN                  9234\n",
       "Forças Armadas (membros ativos)                  ASTRAZENECA/FIOCRUZ       537\n",
       "                                                 PFIZER                    107\n",
       "                                                 SINOVAC/BUTANTAN           63\n",
       "                                                 JANSSEN                     6\n",
       "Forças de Segurança e Salvamento                 ASTRAZENECA/FIOCRUZ      1262\n",
       "                                                 SINOVAC/BUTANTAN          571\n",
       "                                                 PFIZER                    345\n",
       "                                                 JANSSEN                     7\n",
       "Funcionário do Sistema de Privação de Liberdade  ASTRAZENECA/FIOCRUZ       217\n",
       "                                                 SINOVAC/BUTANTAN           65\n",
       "                                                 PFIZER                     37\n",
       "                                                 JANSSEN                     7\n",
       "Pessoas com Deficiência                          ASTRAZENECA/FIOCRUZ      2465\n",
       "                                                 PFIZER                   1023\n",
       "                                                 SINOVAC/BUTANTAN          398\n",
       "                                                 JANSSEN                    45\n",
       "Pessoas de 60 anos ou mais institucionalizadas   SINOVAC/BUTANTAN         1821\n",
       "                                                 ASTRAZENECA/FIOCRUZ      1131\n",
       "                                                 PFIZER                    770\n",
       "                                                 JANSSEN                     3\n",
       "Povos Indígenas                                  SINOVAC/BUTANTAN         1366\n",
       "                                                 PFIZER                    140\n",
       "                                                 ASTRAZENECA/FIOCRUZ        93\n",
       "                                                 JANSSEN                    15\n",
       "Povos e Comunidades Tradicionais                 ASTRAZENECA/FIOCRUZ      3233\n",
       "                                                 PFIZER                    359\n",
       "                                                 SINOVAC/BUTANTAN          335\n",
       "                                                 JANSSEN                    47\n",
       "Trabalhadores Industriais                        ASTRAZENECA/FIOCRUZ      2572\n",
       "                                                 PFIZER                   1965\n",
       "                                                 SINOVAC/BUTANTAN          715\n",
       "                                                 JANSSEN                   431\n",
       "Trabalhadores Portuários                         ASTRAZENECA/FIOCRUZ       390\n",
       "                                                 PFIZER                     91\n",
       "                                                 SINOVAC/BUTANTAN           19\n",
       "                                                 JANSSEN                     4\n",
       "Trabalhadores da Educação                        ASTRAZENECA/FIOCRUZ     10906\n",
       "                                                 PFIZER                   4271\n",
       "                                                 SINOVAC/BUTANTAN         1743\n",
       "                                                 JANSSEN                   184\n",
       "Trabalhadores de Saúde                           ASTRAZENECA/FIOCRUZ     25080\n",
       "                                                 PFIZER                  24328\n",
       "                                                 SINOVAC/BUTANTAN        24317\n",
       "                                                 JANSSEN                  1139\n",
       "outros                                           PFIZER                   9801\n",
       "                                                 ASTRAZENECA/FIOCRUZ      8281\n",
       "                                                 SINOVAC/BUTANTAN         4754\n",
       "                                                 JANSSEN                  1066\n",
       "Name: nome_fabricante, dtype: int64"
      ]
     },
     "execution_count": 227,
     "metadata": {},
     "output_type": "execute_result"
    }
   ],
   "source": [
    "agrup_cat_fabricante = dados_selecionado.groupby(['nome_categoria'])['nome_fabricante'].value_counts()\n",
    "agrup_cat_fabricante"
   ]
  },
  {
   "cell_type": "markdown",
   "id": "de2e97ed",
   "metadata": {},
   "source": [
    "# Verificando Graficamente"
   ]
  },
  {
   "cell_type": "markdown",
   "id": "56b1e430",
   "metadata": {},
   "source": [
    "\n",
    "\n",
    "Quantidade de doses aplicadas por tipo de dose, ordenando por contagem:\n",
    "\n"
   ]
  },
  {
   "cell_type": "code",
   "execution_count": 228,
   "id": "1b2e395d-bf7e-4cf2-bb70-cfae54d3a02d",
   "metadata": {
    "scrolled": true
   },
   "outputs": [
    {
     "data": {
      "text/plain": [
       "Text(0.5, 1.0, 'Quantidade de doses aplicadas por tipo de dose')"
      ]
     },
     "execution_count": 228,
     "metadata": {},
     "output_type": "execute_result"
    },
    {
     "data": {
      "image/png": "[encoded data removed]",
      "text/plain": [
       "<Figure size 864x432 with 1 Axes>"
      ]
     },
     "metadata": {
      "needs_background": "light"
     },
     "output_type": "display_data"
    }
   ],
   "source": [
    "g1 = sea.catplot(y=\"dose\", kind=\"count\", palette=\"ch:.1\", data=dados, order = dados['dose'].value_counts().index)\n",
    "g1.set_axis_labels(\" \", \" \")\n",
    "g1. figure.set_size_inches(12, 6)\n",
    "plt.title('Quantidade de doses aplicadas por tipo de dose')"
   ]
  },
  {
   "cell_type": "markdown",
   "id": "d772d360",
   "metadata": {},
   "source": [
    "\n",
    "\n",
    "Quantidade de vacinas aplicadas por fabricante\n",
    "\n"
   ]
  },
  {
   "cell_type": "code",
   "execution_count": 229,
   "id": "1cce7bf4-980d-476e-b2d5-85ee76bf6271",
   "metadata": {
    "scrolled": true
   },
   "outputs": [
    {
     "data": {
      "text/plain": [
       "Text(0.5, 1.0, 'Quantidade de vacinas aplicadas por fabricante')"
      ]
     },
     "execution_count": 229,
     "metadata": {},
     "output_type": "execute_result"
    },
    {
     "data": {
      "image/png": "[encoded data removed]",
      "text/plain": [
       "<Figure size 864x432 with 1 Axes>"
      ]
     },
     "metadata": {
      "needs_background": "light"
     },
     "output_type": "display_data"
    }
   ],
   "source": [
    "g2 = sea.catplot(y=\"nome_fabricante\", kind = \"count\", palette=\"Pastel1\", data=dados, order = dados['nome_fabricante'].value_counts().index)\n",
    "g2.set_axis_labels(\" \", \" \")\n",
    "g2. figure.set_size_inches(12, 6)\n",
    "plt.title('Quantidade de vacinas aplicadas por fabricante')"
   ]
  },
  {
   "cell_type": "markdown",
   "id": "802c05fd",
   "metadata": {},
   "source": [
    "\n",
    "\n",
    "Grafico percentual de vacinas aplicadas por fabricante\n",
    "\n"
   ]
  },
  {
   "cell_type": "code",
   "execution_count": 230,
   "id": "9d1d1ffe-e07f-4f4c-a2fe-d1030bfe3631",
   "metadata": {
    "scrolled": false,
    "tags": []
   },
   "outputs": [
    {
     "data": {
      "text/plain": [
       "Text(0.5, 1.0, 'Percentual de vacinas aplicadas por fabricante')"
      ]
     },
     "execution_count": 230,
     "metadata": {},
     "output_type": "execute_result"
    },
    {
     "data": {
      "image/png": "[encoded data removed]",
      "text/plain": [
       "<Figure size 648x360 with 1 Axes>"
      ]
     },
     "metadata": {
      "needs_background": "light"
     },
     "output_type": "display_data"
    }
   ],
   "source": [
    "nome_vacina = ['PFIZER', 'ASTRAZENECA/FIOCRUZ', 'SINOVAC/BUTANTAN', 'JANSSEN']\n",
    "pct_nome_vacina\n",
    "dados_pct = pd.DataFrame({'fabricante': ['PFIZER', 'ASTRAZENECA/FIOCRUZ', 'SINOVAC/BUTANTAN', 'JANSSEN'],\n",
    "                   'percentual': [36.31471428571428, 35.766714285714286, 26.13957142857143, 1.779]})\n",
    "\n",
    "g3 = sea.catplot(x=\"fabricante\", y = 'percentual', kind=\"bar\", palette=\"ch:.25\", data=dados_pct, orient = \"v\")\n",
    "g3.set_axis_labels(\" \", \"% \")\n",
    "g3. figure.set_size_inches(9, 5)\n",
    "plt.title('Percentual de vacinas aplicadas por fabricante')"
   ]
  },
  {
   "cell_type": "markdown",
   "id": "584eff54",
   "metadata": {},
   "source": [
    "\n",
    "\n",
    "Quantidade de vacinas aplicadas por Estado\n",
    "\n"
   ]
  },
  {
   "cell_type": "code",
   "execution_count": 231,
   "id": "dd279c1f-5cc3-4f82-adcc-b0e540a5b94e",
   "metadata": {
    "scrolled": false
   },
   "outputs": [
    {
     "data": {
      "text/plain": [
       "Text(0.5, 1.0, 'Quantidade de vacinas aplicadas por Estado')"
      ]
     },
     "execution_count": 231,
     "metadata": {},
     "output_type": "execute_result"
    },
    {
     "data": {
      "image/png": "[encoded data removed]",
      "text/plain": [
       "<Figure size 864x576 with 1 Axes>"
      ]
     },
     "metadata": {
      "needs_background": "light"
     },
     "output_type": "display_data"
    }
   ],
   "source": [
    "g4 = sea.catplot(y=\"sigla_uf\", kind = \"count\", color = \"brown\", data=dados, order = dados['sigla_uf'].value_counts().index)\n",
    "g4.set_axis_labels(\" \", \" \")\n",
    "g4. figure.set_size_inches(12, 8)\n",
    "plt.title('Quantidade de vacinas aplicadas por Estado')"
   ]
  },
  {
   "cell_type": "markdown",
   "id": "509c1288",
   "metadata": {},
   "source": [
    "Doses aplicadas por Estado x Tipo de Dose"
   ]
  },
  {
   "cell_type": "code",
   "execution_count": 232,
   "id": "2589a4f1",
   "metadata": {},
   "outputs": [
    {
     "data": {
      "text/plain": [
       "<matplotlib.legend.Legend at 0x20bef390160>"
      ]
     },
     "execution_count": 232,
     "metadata": {},
     "output_type": "execute_result"
    },
    {
     "data": {
      "image/png": "[encoded data removed]",
      "text/plain": [
       "<Figure size 1080x720 with 1 Axes>"
      ]
     },
     "metadata": {
      "needs_background": "light"
     },
     "output_type": "display_data"
    }
   ],
   "source": [
    "g5= dados.groupby(['sigla_uf', 'dose']).size()\\\n",
    "                .unstack().plot(figsize = (15,10), kind = 'barh', colormap = 'Paired')\\\n",
    "                 \n",
    "                \n",
    "g5.set_title(\"Quantidade de Vacinas Aplicadas por Estados e Tipo de Dose\", fontsize = 17)\n",
    "plt.xlabel(\"\")\n",
    "plt.ylabel(\"Quantidade de Doses Aplicadas\", fontsize = 12)\n",
    "plt.xticks(rotation = 45) # rotacionando label do eixo X\n",
    "plt.legend(title = \"Dose\", fontsize = 10, loc = \"lower right\") # mudando título e posição da legenda"
   ]
  },
  {
   "cell_type": "code",
   "execution_count": null,
   "id": "dd6f9cab",
   "metadata": {},
   "outputs": [],
   "source": [
    "Quantidade de doses totais aplicadas por dia"
   ]
  },
  {
   "cell_type": "code",
   "execution_count": 233,
   "id": "238c5a83",
   "metadata": {},
   "outputs": [],
   "source": [
    "# Excluiremos as datas em que a quantidade de doses aplicadas foi zero\n",
    "\n",
    "doses_data = doses_data.query(\"contagem > 1\")"
   ]
  },
  {
   "cell_type": "code",
   "execution_count": 234,
   "id": "903ddde4",
   "metadata": {
    "scrolled": true
   },
   "outputs": [
    {
     "data": {
      "text/plain": [
       "(array([18353., 18444., 18536., 18628., 18718., 18809., 18901., 18993.]),\n",
       " [Text(0, 0, ''),\n",
       "  Text(0, 0, ''),\n",
       "  Text(0, 0, ''),\n",
       "  Text(0, 0, ''),\n",
       "  Text(0, 0, ''),\n",
       "  Text(0, 0, ''),\n",
       "  Text(0, 0, ''),\n",
       "  Text(0, 0, '')])"
      ]
     },
     "execution_count": 234,
     "metadata": {},
     "output_type": "execute_result"
    },
    {
     "data": {
      "image/png": "[encoded data removed]",
      "text/plain": [
       "<Figure size 1080x432 with 1 Axes>"
      ]
     },
     "metadata": {
      "needs_background": "light"
     },
     "output_type": "display_data"
    }
   ],
   "source": [
    "g6 = sea.lineplot(x = 'data_aplicacao', y ='contagem', data = doses_data, color = \"purple\")\n",
    "g6. figure.set_size_inches(15, 6)\n",
    "plt.title('Quantidade de vacinas aplicadas por Dia', fontsize = 15)\n",
    "plt.ylabel('Quantidade')\n",
    "plt.xlabel(' ')\n",
    "plt.xticks(rotation = 45) # rotacionando label do eixo X"
   ]
  },
  {
   "cell_type": "markdown",
   "id": "f6286978",
   "metadata": {},
   "source": [
    "Vacinas aplicadas por grupo e fabricante:\n",
    "\n",
    "Serão necessários alguns tratamentos para a plotagem deste gráfico"
   ]
  },
  {
   "cell_type": "markdown",
   "id": "cfa93b47",
   "metadata": {},
   "source": [
    "\n",
    "\n",
    "Para não poluir visualmente o gráfico, iremos renomear todas as categorias como \"outros\" exceto as duas maiores categorias da base: Comorbidades e Faixa Etária\n",
    "\n"
   ]
  },
  {
   "cell_type": "code",
   "execution_count": 235,
   "id": "65a90cce-a198-43f1-a9d6-b9b5a41d1e44",
   "metadata": {},
   "outputs": [],
   "source": [
    "categoriadic2=  {\n",
    "    1 : 'Comorbidades',\n",
    "    2 : 'Faixa Étaria',\n",
    "    3 : 'outros',\n",
    "    4 : 'outros',\n",
    "    5 : 'outros',\n",
    "    6 : 'outros',\n",
    "    7 : 'outros',\n",
    "    8: 'outros',\n",
    "    9 : 'outros',\n",
    "    10 : 'outros',\n",
    "    11 : 'outros',\n",
    "    12 : 'outros',\n",
    "    13 : 'outros',\n",
    "    14 : 'outros',\n",
    "    15 : 'outros',\n",
    "    16 : 'outros',\n",
    "    21 : 'outros',\n",
    "    25 : 'outros',\n",
    "    94 : 'outros',\n",
    "    114 : 'outros'}\n",
    "  "
   ]
  },
  {
   "cell_type": "code",
   "execution_count": 236,
   "id": "5dd1d313-b843-4e2f-9541-038d0daa45e2",
   "metadata": {},
   "outputs": [
    {
     "data": {
      "text/html": [
       "<div>\n",
       "<style scoped>\n",
       "    .dataframe tbody tr th:only-of-type {\n",
       "        vertical-align: middle;\n",
       "    }\n",
       "\n",
       "    .dataframe tbody tr th {\n",
       "        vertical-align: top;\n",
       "    }\n",
       "\n",
       "    .dataframe thead th {\n",
       "        text-align: right;\n",
       "    }\n",
       "</style>\n",
       "<table border=\"1\" class=\"dataframe\">\n",
       "  <thead>\n",
       "    <tr style=\"text-align: right;\">\n",
       "      <th></th>\n",
       "      <th>id_paciente</th>\n",
       "      <th>categoria</th>\n",
       "      <th>nome_fabricante</th>\n",
       "      <th>nome_categoria</th>\n",
       "    </tr>\n",
       "  </thead>\n",
       "  <tbody>\n",
       "    <tr>\n",
       "      <th>0</th>\n",
       "      <td>4221bb5df1b895b7223c1031f2f71377bbb337f5b50760...</td>\n",
       "      <td>9.0</td>\n",
       "      <td>PFIZER</td>\n",
       "      <td>Trabalhadores de Saúde</td>\n",
       "    </tr>\n",
       "    <tr>\n",
       "      <th>1</th>\n",
       "      <td>64a596936ac94945399fa2688c4e0dec00b22809047f7a...</td>\n",
       "      <td>2.0</td>\n",
       "      <td>SINOVAC/BUTANTAN</td>\n",
       "      <td>Faixa Étaria</td>\n",
       "    </tr>\n",
       "    <tr>\n",
       "      <th>2</th>\n",
       "      <td>4d965708eb22efcd242dda496b77716080c01ab9038fd2...</td>\n",
       "      <td>2.0</td>\n",
       "      <td>JANSSEN</td>\n",
       "      <td>Faixa Étaria</td>\n",
       "    </tr>\n",
       "    <tr>\n",
       "      <th>3</th>\n",
       "      <td>95a52c776c26e81f4e856f4c2aeafc35b0c507daeea2b2...</td>\n",
       "      <td>9.0</td>\n",
       "      <td>ASTRAZENECA/FIOCRUZ</td>\n",
       "      <td>Trabalhadores de Saúde</td>\n",
       "    </tr>\n",
       "    <tr>\n",
       "      <th>4</th>\n",
       "      <td>0319447ca18ff545f498ee458312ce720e037a31f78780...</td>\n",
       "      <td>2.0</td>\n",
       "      <td>SINOVAC/BUTANTAN</td>\n",
       "      <td>Faixa Étaria</td>\n",
       "    </tr>\n",
       "  </tbody>\n",
       "</table>\n",
       "</div>"
      ],
      "text/plain": [
       "                                         id_paciente  categoria  \\\n",
       "0  4221bb5df1b895b7223c1031f2f71377bbb337f5b50760...        9.0   \n",
       "1  64a596936ac94945399fa2688c4e0dec00b22809047f7a...        2.0   \n",
       "2  4d965708eb22efcd242dda496b77716080c01ab9038fd2...        2.0   \n",
       "3  95a52c776c26e81f4e856f4c2aeafc35b0c507daeea2b2...        9.0   \n",
       "4  0319447ca18ff545f498ee458312ce720e037a31f78780...        2.0   \n",
       "\n",
       "       nome_fabricante          nome_categoria  \n",
       "0               PFIZER  Trabalhadores de Saúde  \n",
       "1     SINOVAC/BUTANTAN            Faixa Étaria  \n",
       "2              JANSSEN            Faixa Étaria  \n",
       "3  ASTRAZENECA/FIOCRUZ  Trabalhadores de Saúde  \n",
       "4     SINOVAC/BUTANTAN            Faixa Étaria  "
      ]
     },
     "execution_count": 236,
     "metadata": {},
     "output_type": "execute_result"
    }
   ],
   "source": [
    "# Criando novo DF apenas com variáveis de interesse\n",
    "\n",
    "colunas_selecionada2 = ['id_paciente', 'categoria', 'nome_fabricante'] \n",
    "dados_selecionado2 = dados.filter(items = colunas_selecionada)\n",
    "dados_selecionado.head()\n"
   ]
  },
  {
   "cell_type": "code",
   "execution_count": 237,
   "id": "1647a7c9-8f65-4442-9dff-2aecaf7a3dc8",
   "metadata": {},
   "outputs": [],
   "source": [
    "# retirando NA's\n",
    "\n",
    "dados_selecionado2.isnull().sum() \n",
    "\n",
    "dados_selecionado2.dropna(inplace = True) "
   ]
  },
  {
   "cell_type": "code",
   "execution_count": 238,
   "id": "43fcf514-195f-4eb2-8139-f8794eb1dacc",
   "metadata": {
    "scrolled": true
   },
   "outputs": [
    {
     "data": {
      "text/plain": [
       "nome_categoria\n",
       "Comorbidades     60597\n",
       "Faixa Étaria    499483\n",
       "outros          138525\n",
       "dtype: int64"
      ]
     },
     "execution_count": 238,
     "metadata": {},
     "output_type": "execute_result"
    }
   ],
   "source": [
    "# criando coluna com nome das categorias com base no dicionario anterior\n",
    "\n",
    "dados_selecionado2['nome_categoria'] = [categoriadic2[i] for i in dados_selecionado2.categoria] \n",
    "dados_selecionado2.groupby('nome_categoria').size() "
   ]
  },
  {
   "cell_type": "markdown",
   "id": "e13cb69d",
   "metadata": {},
   "source": [
    "\n",
    "\n",
    "Agora podemos criar gráfico com função .plot()\n",
    "\n",
    "Obs: A barra invertida serve para separar linhas do código para deixá-lo mais organizado em forma de \"bloco\"\n",
    "\n"
   ]
  },
  {
   "cell_type": "code",
   "execution_count": 239,
   "id": "5fa336cd-14db-472f-9d33-0c277ffd4314",
   "metadata": {
    "scrolled": false
   },
   "outputs": [
    {
     "data": {
      "image/png": "[encoded data removed]",
      "text/plain": [
       "<Figure size 1080x720 with 1 Axes>"
      ]
     },
     "metadata": {
      "needs_background": "light"
     },
     "output_type": "display_data"
    }
   ],
   "source": [
    "g7 = dados_selecionado2.filter(items = ['nome_categoria', 'nome_fabricante']).sort_index()\\\n",
    "                .groupby(['nome_categoria', 'nome_fabricante']).size()\\\n",
    "                .unstack().plot(figsize = (15,10), kind = 'bar', colormap = 'Paired')\\\n",
    "                 \n",
    "                \n",
    "g7.set_title(\"Quantidade de Vacinas Aplicadas por Maiores Grupos de Atendimento\", fontsize = 17)\n",
    "plt.xlabel(\"\")\n",
    "plt.ylabel(\"Quantidade de Doses Aplicadas\", fontsize = 12)\n",
    "plt.xticks(rotation = 45) # rotacionando label do eixo X\n",
    "plt.legend(title = \"Imunizante\", fontsize = 10, loc = \"upper right\") # mudando título, fonte e posição das legendas\n",
    "plt.savefig('1.pdf', format = 'pdf', dpi = 200, bbox_inches='tight')\n",
    "\n",
    "# Explicando parametros: \n",
    "# unstack separa os grupos em barras proprias\n",
    "# figsize altera tamanho do grafico\n",
    "# kind muda o tipo de geometria do grafico"
   ]
  },
  {
   "cell_type": "markdown",
   "id": "8f8b25b1",
   "metadata": {},
   "source": [
    "# Conclusões:\n",
    "\n",
    "1. Dos nossos dados filtrados, o imunizante Pfizer figura com maior quantidade de doses aplicadas;\n",
    "2. O Estado de São Paulo aplicou a maior quantidade de vacinas, seguido de Minas Gerais;\n",
    "3. A maior parte das aplicações foram para o grupo de 1º Dose, seguido de perto pelo grupo de 2º dose;\n",
    "4. É possível verificar uma tendência de queda na vacinação a partir de setembro de 2022;\n",
    "5. No geral, Pfizer foi mais aplicada nos grupos de prioridade por \"Faixa etária\", enquanto que para os grupos de \"Comorbidades\" e \"Outros\" o imunizante mais aplicado foi Astrazeneca."
   ]
  }
 ],
 "metadata": {
  "kernelspec": {
   "display_name": "Python 3 (ipykernel)",
   "language": "python",
   "name": "python3"
  },
  "language_info": {
   "codemirror_mode": {
    "name": "ipython",
    "version": 3
   },
   "file_extension": ".py",
   "mimetype": "text/x-python",
   "name": "python",
   "nbconvert_exporter": "python",
   "pygments_lexer": "ipython3",
   "version": "3.9.12"
  }
 },
 "nbformat": 4,
 "nbformat_minor": 5
}
